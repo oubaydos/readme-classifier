{
 "cells": [
  {
   "cell_type": "code",
   "execution_count": 252,
   "outputs": [
    {
     "data": {
      "text/plain": "      index    id                                             readme  is_good\n0         0     1  # Babylon.js\\r\\n\\r\\nGetting started? Play dire...     True\n1         1     2  <div align=\"center\">\\r\\n    <a href=\"https://w...     True\n2         2     3  <!--# \\xe4\\xbb\\x8a\\xe5\\xb9\\xb4\\xe6\\x9c\\x80\\xe5...     True\n3         3     4  <p align=\"center\">\\n  <a href=\"https://get.fou...     True\n4         4     5  Metasploit [![Build Status](https://travis-ci....     True\n...     ...   ...                                                ...      ...\n2560   1070  1071  # -\\n=\\xe6\\x8a\\x8a\\xe4\\xbd\\xa0\\xe5\\xb8\\xa6\\xe5...    False\n2561   1071  1072  # Hi, I\\'m Kyle, a full stack javascript devel...    False\n2562   1072  1073  # hello-world\\nHello world stuff.\\n\\nHello thi...    False\n2563   1073  1074  # \\xe7\\xa2\\x8c\\xe6\\x9f\\x9a\\xe5\\x8f\\xb6\\xe7\\x9a...    False\n2564   1074  1075  # hello-wrold\\njust another repository\\n\\nGitH...    False\n\n[2565 rows x 4 columns]",
      "text/html": "<div>\n<style scoped>\n    .dataframe tbody tr th:only-of-type {\n        vertical-align: middle;\n    }\n\n    .dataframe tbody tr th {\n        vertical-align: top;\n    }\n\n    .dataframe thead th {\n        text-align: right;\n    }\n</style>\n<table border=\"1\" class=\"dataframe\">\n  <thead>\n    <tr style=\"text-align: right;\">\n      <th></th>\n      <th>index</th>\n      <th>id</th>\n      <th>readme</th>\n      <th>is_good</th>\n    </tr>\n  </thead>\n  <tbody>\n    <tr>\n      <th>0</th>\n      <td>0</td>\n      <td>1</td>\n      <td># Babylon.js\\r\\n\\r\\nGetting started? Play dire...</td>\n      <td>True</td>\n    </tr>\n    <tr>\n      <th>1</th>\n      <td>1</td>\n      <td>2</td>\n      <td>&lt;div align=\"center\"&gt;\\r\\n    &lt;a href=\"https://w...</td>\n      <td>True</td>\n    </tr>\n    <tr>\n      <th>2</th>\n      <td>2</td>\n      <td>3</td>\n      <td>&lt;!--# \\xe4\\xbb\\x8a\\xe5\\xb9\\xb4\\xe6\\x9c\\x80\\xe5...</td>\n      <td>True</td>\n    </tr>\n    <tr>\n      <th>3</th>\n      <td>3</td>\n      <td>4</td>\n      <td>&lt;p align=\"center\"&gt;\\n  &lt;a href=\"https://get.fou...</td>\n      <td>True</td>\n    </tr>\n    <tr>\n      <th>4</th>\n      <td>4</td>\n      <td>5</td>\n      <td>Metasploit [![Build Status](https://travis-ci....</td>\n      <td>True</td>\n    </tr>\n    <tr>\n      <th>...</th>\n      <td>...</td>\n      <td>...</td>\n      <td>...</td>\n      <td>...</td>\n    </tr>\n    <tr>\n      <th>2560</th>\n      <td>1070</td>\n      <td>1071</td>\n      <td># -\\n=\\xe6\\x8a\\x8a\\xe4\\xbd\\xa0\\xe5\\xb8\\xa6\\xe5...</td>\n      <td>False</td>\n    </tr>\n    <tr>\n      <th>2561</th>\n      <td>1071</td>\n      <td>1072</td>\n      <td># Hi, I\\'m Kyle, a full stack javascript devel...</td>\n      <td>False</td>\n    </tr>\n    <tr>\n      <th>2562</th>\n      <td>1072</td>\n      <td>1073</td>\n      <td># hello-world\\nHello world stuff.\\n\\nHello thi...</td>\n      <td>False</td>\n    </tr>\n    <tr>\n      <th>2563</th>\n      <td>1073</td>\n      <td>1074</td>\n      <td># \\xe7\\xa2\\x8c\\xe6\\x9f\\x9a\\xe5\\x8f\\xb6\\xe7\\x9a...</td>\n      <td>False</td>\n    </tr>\n    <tr>\n      <th>2564</th>\n      <td>1074</td>\n      <td>1075</td>\n      <td># hello-wrold\\njust another repository\\n\\nGitH...</td>\n      <td>False</td>\n    </tr>\n  </tbody>\n</table>\n<p>2565 rows × 4 columns</p>\n</div>"
     },
     "execution_count": 252,
     "metadata": {},
     "output_type": "execute_result"
    }
   ],
   "source": [
    "import re\n",
    "import string\n",
    "\n",
    "import markdown\n",
    "import pandas as pd\n",
    "from bs4 import BeautifulSoup\n",
    "from pandas import DataFrame\n",
    "\n",
    "# merge the train and test csvs\n",
    "\n",
    "train_csv = pd.concat([pd.read_csv('train/good.csv'), pd.read_csv('train/bad.csv')], axis=0).reset_index()\n",
    "test_csv = pd.concat([pd.read_csv('test/good.csv'), pd.read_csv('test/bad.csv')], axis=0).reset_index()\n",
    "train_csv\n",
    "# pd.read_csv('test/bad.csv').shape[0]\n",
    "# pd.read_csv('test/bad.csv').columns"
   ],
   "metadata": {
    "collapsed": false
   }
  },
  {
   "cell_type": "code",
   "execution_count": 239,
   "metadata": {
    "collapsed": true
   },
   "outputs": [
    {
     "data": {
      "text/plain": "      index    id  length                                             readme  \\\n0         0     1    4024  # Beego [![Test](https://github.com/beego/beeg...   \n1         1     2    3545  <p align=\"center\"><a href=\"https://laravel.com...   \n2         2     3    6061  # ![TodoMVC](media/logo.png)\\n\\n> Helping you ...   \n3         3     4   28301  # Sortable &nbsp; [![Financial Contributors on...   \n4         4     5   13584  <p align=\"center\">\\n  <a href=\"#\"><img src=\"./...   \n...     ...   ...     ...                                                ...   \n2591   1139  1140      93  # 50projects_50days\\n 50 unique mini-projects ...   \n2592   1140  1141     405  # KMG-CAFE\\nFIRST PROJECTS\\nThis project based...   \n2593   1141  1142      37              # srs\\nAutomating services to users\\n   \n2594   1142  1143      16                                   # htmlsitetest\\n   \n2595   1143  1144      62  # hello-world\\nFirst time repository\\n\\nHey, I...   \n\n      is_good  \n0        True  \n1        True  \n2        True  \n3        True  \n4        True  \n...       ...  \n2591    False  \n2592    False  \n2593    False  \n2594    False  \n2595    False  \n\n[2596 rows x 5 columns]",
      "text/html": "<div>\n<style scoped>\n    .dataframe tbody tr th:only-of-type {\n        vertical-align: middle;\n    }\n\n    .dataframe tbody tr th {\n        vertical-align: top;\n    }\n\n    .dataframe thead th {\n        text-align: right;\n    }\n</style>\n<table border=\"1\" class=\"dataframe\">\n  <thead>\n    <tr style=\"text-align: right;\">\n      <th></th>\n      <th>index</th>\n      <th>id</th>\n      <th>length</th>\n      <th>readme</th>\n      <th>is_good</th>\n    </tr>\n  </thead>\n  <tbody>\n    <tr>\n      <th>0</th>\n      <td>0</td>\n      <td>1</td>\n      <td>4024</td>\n      <td># Beego [![Test](https://github.com/beego/beeg...</td>\n      <td>True</td>\n    </tr>\n    <tr>\n      <th>1</th>\n      <td>1</td>\n      <td>2</td>\n      <td>3545</td>\n      <td>&lt;p align=\"center\"&gt;&lt;a href=\"https://laravel.com...</td>\n      <td>True</td>\n    </tr>\n    <tr>\n      <th>2</th>\n      <td>2</td>\n      <td>3</td>\n      <td>6061</td>\n      <td># ![TodoMVC](media/logo.png)\\n\\n&gt; Helping you ...</td>\n      <td>True</td>\n    </tr>\n    <tr>\n      <th>3</th>\n      <td>3</td>\n      <td>4</td>\n      <td>28301</td>\n      <td># Sortable &amp;nbsp; [![Financial Contributors on...</td>\n      <td>True</td>\n    </tr>\n    <tr>\n      <th>4</th>\n      <td>4</td>\n      <td>5</td>\n      <td>13584</td>\n      <td>&lt;p align=\"center\"&gt;\\n  &lt;a href=\"#\"&gt;&lt;img src=\"./...</td>\n      <td>True</td>\n    </tr>\n    <tr>\n      <th>...</th>\n      <td>...</td>\n      <td>...</td>\n      <td>...</td>\n      <td>...</td>\n      <td>...</td>\n    </tr>\n    <tr>\n      <th>2591</th>\n      <td>1139</td>\n      <td>1140</td>\n      <td>93</td>\n      <td># 50projects_50days\\n 50 unique mini-projects ...</td>\n      <td>False</td>\n    </tr>\n    <tr>\n      <th>2592</th>\n      <td>1140</td>\n      <td>1141</td>\n      <td>405</td>\n      <td># KMG-CAFE\\nFIRST PROJECTS\\nThis project based...</td>\n      <td>False</td>\n    </tr>\n    <tr>\n      <th>2593</th>\n      <td>1141</td>\n      <td>1142</td>\n      <td>37</td>\n      <td># srs\\nAutomating services to users\\n</td>\n      <td>False</td>\n    </tr>\n    <tr>\n      <th>2594</th>\n      <td>1142</td>\n      <td>1143</td>\n      <td>16</td>\n      <td># htmlsitetest\\n</td>\n      <td>False</td>\n    </tr>\n    <tr>\n      <th>2595</th>\n      <td>1143</td>\n      <td>1144</td>\n      <td>62</td>\n      <td># hello-world\\nFirst time repository\\n\\nHey, I...</td>\n      <td>False</td>\n    </tr>\n  </tbody>\n</table>\n<p>2596 rows × 5 columns</p>\n</div>"
     },
     "execution_count": 239,
     "metadata": {},
     "output_type": "execute_result"
    }
   ],
   "source": [
    "\n",
    "\n",
    "\n",
    "def add_size_columns(csv):\n",
    "    lengths = []\n",
    "    for i, row in csv.iterrows():\n",
    "        lengths.append(len(str(row.readme)))\n",
    "    csv.insert(2, 'length', lengths)\n",
    "    return csv\n",
    "\n",
    "\n",
    "add_size_columns(train_csv)\n",
    "add_size_columns(test_csv)\n",
    "\n",
    "\n",
    "# contains 'id', 'readme', 'is_good'"
   ]
  },
  {
   "cell_type": "code",
   "execution_count": 244,
   "outputs": [],
   "source": [
    "def create_vocabulary(preprocessed_dataframe: DataFrame) -> set:\n",
    "    vocabulary = set()\n",
    "    for i, row in preprocessed_dataframe.iterrows():\n",
    "        for j in row.readme:\n",
    "            vocabulary.add(j)\n",
    "    return vocabulary\n"
   ],
   "metadata": {
    "collapsed": false
   }
  },
  {
   "cell_type": "code",
   "execution_count": 241,
   "outputs": [
    {
     "data": {
      "text/plain": "0       [babylon, js, getting, started, play, directly...\n1       [java, pencil2, computer, cloud, art, floppy, ...\n2       [banner, 2, 0, ui, banner, 2, 0, banner, 1, 4,...\n3       [install, documentation, releases, contributin...\n4       [metasploit, the, metasploit, framework, is, r...\n                              ...                        \n2560                                                   []\n2561    [hi, i, m, kyle, a, full, stack, javascript, d...\n2562    [hello, world, hello, world, stuff, hello, thi...\n2563                                                   []\n2564    [hello, wrold, just, another, repository, gith...\nName: readme, Length: 2565, dtype: object"
     },
     "execution_count": 241,
     "metadata": {},
     "output_type": "execute_result"
    }
   ],
   "source": [
    "def preprocess_html(html):\n",
    "    # Use BeautifulSoup to parse the HTML\n",
    "    soup = BeautifulSoup(html, 'html.parser')\n",
    "\n",
    "    # Remove any script or style tags\n",
    "    for tag in soup(['script', 'style']):\n",
    "        tag.decompose()\n",
    "\n",
    "    # Remove HTML tags and attributes\n",
    "    text = soup.get_text()\n",
    "    text = re.sub(r'<[^>]*>', '', text)\n",
    "    text = text.replace('/', ' ').replace('\\\\n', ' ').replace('\\\\r', ' ')\n",
    "    text = re.sub(r'\\\\x..', '', text)\n",
    "    text = text.translate(text.maketrans(string.punctuation, ' ' * len(string.punctuation)))\n",
    "    text = text.lower()\n",
    "\n",
    "    # Split the text into words\n",
    "    words = text.split()\n",
    "    if len(words) >= 1 and words[0] == 'b':\n",
    "        del words[0]\n",
    "\n",
    "    # Return the preprocessed text\n",
    "    return words\n",
    "\n",
    "\n",
    "count = 0\n",
    "\n",
    "\n",
    "def preprocess_markdown(markdown_text):\n",
    "    markdown_text = str(markdown_text)\n",
    "    html = markdown.markdown(markdown_text)\n",
    "    # Preprocess the HTML\n",
    "    words = preprocess_html(html)\n",
    "    return words\n",
    "\n",
    "\n",
    "def preprocess(csv):\n",
    "    a = csv['readme'].apply(preprocess_markdown)\n",
    "    return a\n",
    "\n",
    "\n",
    "train_csv['readme'] = preprocess(train_csv)\n",
    "\n",
    "train_csv\n",
    "# test_csv = preprocess(test_csv)\n",
    "# for i, row in train_csv.iterrows():\n",
    "#     print(len(row.readme))\n",
    "#     break\n"
   ],
   "metadata": {
    "collapsed": false
   }
  },
  {
   "cell_type": "code",
   "execution_count": 242,
   "outputs": [
    {
     "data": {
      "text/plain": "0       [beego, beego, is, used, for, rapid, developme...\n1       [about, laravel, note, this, repository, conta...\n2       [helping, you, select, an, mv, framework, webs...\n3       [sortable, sortable, is, a, javascript, librar...\n4       [a, completely, customizable, framework, for, ...\n                              ...                        \n2591    [50projects, 50days, 50, unique, mini, project...\n2592    [kmg, cafe, first, projects, this, project, ba...\n2593               [srs, automating, services, to, users]\n2594                                       [htmlsitetest]\n2595    [hello, world, first, time, repository, hey, i...\nName: readme, Length: 2596, dtype: object"
     },
     "execution_count": 242,
     "metadata": {},
     "output_type": "execute_result"
    }
   ],
   "source": [
    "test_csv['readme'] = preprocess(test_csv)\n",
    "\n",
    "test_csv\n"
   ],
   "metadata": {
    "collapsed": false
   }
  },
  {
   "cell_type": "code",
   "execution_count": 257,
   "outputs": [
    {
     "data": {
      "text/plain": "{'m680x',\n 'malicious',\n 'maddi',\n 'lerp',\n 'tle',\n 'neuecc',\n 'oam',\n 'tlsharp',\n 'chandrasekaran',\n 'corrective',\n 'myadapter',\n 'bindkey',\n 'ppassetsactioncontroller',\n 'retief',\n 'midin',\n 'elgentos',\n '879',\n 'asanovic',\n 'emmet',\n 'clogs',\n 'subcommand',\n '4bn1',\n 'leftover',\n 'kkbox',\n 'predominantly',\n 'leftvalue',\n 'jaidedai',\n 'mcclellan',\n 'krug',\n 'jvm',\n 'tendr',\n 'colorizedstring',\n 'z',\n 'codenameone',\n 'sobjectizer',\n 'honcho',\n 'tamcore',\n 'subshell',\n 'minimal',\n 'neko',\n '5b',\n '6446657322759488014',\n '1052',\n 'portia',\n 'privileged',\n 'tokuhirom',\n '606',\n 'formulations',\n 'jdk19webquarkus',\n 'platformlessons',\n '45368',\n 'cpuguy83',\n 'librairies',\n 'cyltableviewplaceholder',\n 'histbuff',\n 'failsafe',\n 'juices',\n 'gaxatte',\n 'hwillson',\n 'morestachio',\n 'unlink',\n 'moderators',\n '2781',\n '2332',\n 'nothing',\n 'exert',\n 'galley',\n 'expirementation',\n '3b1',\n 'wkentaro',\n 'hant',\n 'heinemeier',\n 'purescript',\n 'nextdns',\n 'restsharp',\n 'nf997',\n 'audigier',\n 'codebook',\n 'clment',\n 'uberguide',\n 'concurrent',\n 'messagebird',\n 'excelexcel',\n 'untested',\n 'commitallowingstateloss',\n 'ory',\n 'tinyjpg',\n 'hukk',\n 'unibyav',\n 'maine',\n 'traceprivately',\n 'marcdw1289',\n 'hdfs',\n '0302',\n 'patankar',\n 'ynab',\n '7forkjoinpooljava',\n 'appearing',\n 'slack',\n 'secondcolor',\n 'basepath',\n 'getcomputedstyle',\n 'sswap',\n 'muting',\n 'asp',\n 'blacks',\n 'unvue',\n 'advbox',\n 'arthasserver',\n 'densenets',\n 'telemtype',\n 'elliotgoodrich',\n 'carefree',\n '0769',\n 'configatron',\n 'pooltracker',\n 'zerologon',\n 'kae',\n 'tuxthexplorer',\n 'iomem',\n 'drifting',\n 'cifar10',\n 'ahjm',\n 'flambe',\n 'alphabet5',\n 'torch7',\n 'affiliation',\n 'donahue',\n 'newtree',\n 'family',\n 'qemuinfo',\n 'affine',\n 'cedar',\n 'chrissicool',\n 'tarakajian',\n 'scaleallsizes',\n 'yolact',\n '2047fc3d9be9',\n '2406',\n 'crawlergolog4j',\n 'hecking',\n 'fediverse',\n 'killnicole',\n 'av',\n 'tej',\n 'multitask',\n '1157',\n 'renderer',\n 'taskcafe',\n '35734411',\n 'anamorphisms',\n 'tentrypoint',\n 'struggeling',\n 'manoli',\n 'burak',\n 'keyvaluepairs',\n 'cahnnels',\n 'kotlinkotlin',\n 'grid5000',\n 'xcodebuild',\n 'af3b929',\n 'hagendorn',\n 'vizzu',\n '15spring',\n 'multipartforms',\n '5123',\n 'mom',\n 'petriko',\n 'wookpedia',\n 'rkobjectmappererrorobjectskey',\n 'experimentals',\n 'jens',\n 'rubber',\n 'qqv5',\n 'baboon',\n 'matias',\n 'positions',\n 'wu2019detectron2',\n '0ffset',\n 'receipient',\n 'tidelift',\n 'redis',\n 'yuting',\n 'surverys',\n 'enderavatar',\n 'sossi',\n 'tforums',\n 'shashank',\n 'flews',\n 'rrma',\n 'thoughtbot',\n 'restx',\n 'tqdmupto',\n 'templog',\n 'upsdeveloperkit',\n '2845',\n 'hardcopy',\n 'servicenumber',\n '7901',\n 'withmaxresultsize',\n 'deception',\n 'iosfastimagecache',\n 'mr',\n '1374625813404999686',\n 'thorough',\n 'sbin',\n '330k',\n '1825',\n 'codemaid',\n 'tilda',\n '123to',\n 'exemple',\n '0984',\n 'discretion',\n 'depended',\n 'emui3',\n 'flinksink',\n 'lxl',\n 'handlers',\n 'tuxfight3r',\n 'aleshaoleg',\n 'sslrootcert',\n '574s',\n 'vuetiful',\n 'grep',\n 'unvalidated',\n 'rowheight',\n 'amaz',\n 'csv2',\n '4v',\n '1071',\n '0091',\n 'tahr',\n 'mediapipe',\n 'graphiql',\n 'pramp',\n 'generosity',\n 'vueblog',\n 'shouldn’t',\n 'achew22',\n 'fvm',\n 'fooddata',\n 'dessert',\n 'foodish',\n 'birbilis',\n 'icp',\n 'enum',\n 'conditions',\n '12091207',\n 'axlsx',\n 'flinkkeyedprocessfunction',\n 'masochist',\n 'take',\n 'delegations',\n 'zinit',\n 'rubytests',\n 'offsetleft',\n 'ch4',\n '9292',\n 'k8scontrollercontroller',\n 'palenath',\n 'coarser',\n 'metadati',\n 'rspeer',\n 'cli',\n 'definitionid',\n 'pythagoras',\n 'magicmace',\n 'tetris20',\n 'paginated',\n 'inspirehep',\n 'dbuild',\n '5th',\n 'constexpr',\n 'nilesh',\n 'adhere',\n '1556',\n 'mutationobserver',\n 'jmlok',\n 'csi',\n 'pgid',\n 'dionicio',\n 'heessels',\n 'scikitlearn',\n 'notarize',\n 'irwin',\n 'buster',\n 'sitetoupdate',\n 'mergedeep',\n 'parasites',\n 'designing',\n 'l6qulgqahcayidrf',\n 'bim',\n 'uifontcomplete',\n 'adblockers',\n 'blackroomsec',\n 'batdiff',\n 'lakota',\n 'notdefined',\n 'yin',\n 'pcduino',\n 'dougal',\n '289rocksdbstatebackend',\n 'mark',\n 'magicmusic',\n 'theorem',\n 'petabyte',\n 'teleseed',\n 'tinkerflags',\n 'awesomness',\n 'recursivepower',\n 'hunter2',\n 'degraded',\n 'zoomed',\n 'framework',\n 'systemjs',\n 'termd',\n 'flippers',\n 'globals',\n 'forlan',\n 'catransformlayer',\n 'rpcremote',\n 'concerning',\n 'deluxe',\n 'case',\n '0jcenter',\n 'iconfontnames',\n 'netflow',\n 'buermarc',\n 'unidecode',\n 'hyadesinc',\n 'zervas',\n 'receive',\n 'smseagles',\n 'fantastic',\n 'japanesemedia',\n 'drawerarrowdrawable',\n 'timeless',\n 'equations',\n 'fuzzer',\n 'atn',\n 'skeletontreedescription',\n 'alfresco',\n 'moviefile',\n '0427',\n 'anagrams',\n '980',\n 'bitrot',\n 'jokefaker',\n 'addoperation',\n 'elasticsearchhadoop',\n 'mokal',\n 'fns',\n 'phan',\n 'colloquy',\n 'lanczos4',\n 'erik',\n '657',\n 'avery',\n 'storyboard2',\n 'aspell',\n 'coolest',\n 'kulal',\n 'pangesture',\n 'deserialization',\n 'godiscoveryclient',\n 'arraybuffers',\n 'troubleshooter',\n 'clusterization',\n '6445776370827002382',\n 'nationalidnumber',\n 'dns',\n 'const',\n 'popped',\n 'gperftools',\n 'd382649cfebd4c5da202677b6cad1d40',\n 'messner',\n 'pdpbox',\n 'wart',\n 'configurecluster',\n 'fdaciuk',\n 'gridsearchcv',\n 'grzegorz',\n 'jsqmessagesviewcontroller',\n 'emfile',\n 'sunday',\n 'encourage',\n '0x1b',\n 'armosec',\n '44z',\n 'sisay',\n 'chosen',\n 'rubix',\n 'authlib',\n 'dradis',\n 'asbill',\n 'tileview',\n 'system32',\n 'overheid',\n 'kubernetesjavaopenapi',\n 'convertor',\n 'notrium',\n '2264',\n 'tfswitch',\n 'playerbot',\n 'buildctl',\n 'programar',\n 'goldbach',\n 'animationmaster',\n '0785',\n 'jkk3',\n 'parallaxheader',\n 'unconstrained',\n 'ygbenchmark',\n 'musique',\n 'andgitfocused',\n 'liheng',\n 'henrikas',\n '0588',\n '0572',\n 'dncc',\n 'webgoat',\n 'ecomfe',\n 'cloudevents',\n '3m',\n 'heytap',\n 'askubuntu',\n 'chainpagecollectionview',\n 'palili',\n 'arpit',\n 'reputation',\n 'miavlgnp989e5obc',\n 'donors',\n 'myeditor',\n '0536',\n 'pragmatwice',\n '20everything',\n 'wmnnd',\n '1238',\n 'seqlearn',\n 'wmnt',\n 'ra',\n 'alcohol',\n 'calendar',\n 'shimmer',\n 'needle',\n 'nowcoder',\n 'cew3',\n 'ps1',\n 'hig',\n 'bither',\n 'prosacco',\n 'incanlove',\n 'smo',\n 'gdssecurity',\n 'maat',\n 'warehouse',\n 'attributeset',\n 'follows',\n 'correlate',\n 'kaisatec',\n '1089',\n 'htp6rat4',\n 'quietly',\n 'aaca8e9aa1a9',\n 'akadia',\n '1fuc7od6e',\n 'coldark',\n 'wallet',\n 'substitution',\n '0253',\n 'villela',\n 'cryptcat',\n 'modularized',\n 'botname',\n 'uncovers',\n 'picussecurity',\n 'iviewui',\n 'samburu',\n 'accumulator',\n 'admob',\n 'horoscope',\n 'swiftguide',\n 'unbiased',\n 'judge',\n 'receitaws',\n 'leaders',\n 'dexec',\n 'basename',\n 'nuimk',\n 'localradio',\n '149444716',\n 'mapa',\n '2106',\n 'tamrakar',\n 'code',\n 'commends',\n 'chap',\n 'caas',\n 'icwsm',\n 'addvalue',\n 'masterpassword',\n 'doc2text',\n 'resumed',\n 'xtra',\n 'hacktoday',\n 'ackacknowledge',\n 'bpfw',\n '2152',\n 'lair',\n 'accurately',\n 'elda',\n 'resumable',\n 'pycoach',\n 'lou',\n 'fdid',\n 'reacted',\n 'reaps',\n 'multiptr',\n 'correcting',\n 'pathforresource',\n 'asynctask',\n 'incrementation',\n 'timko',\n 'x4rbrpaqs',\n 'menyinch',\n 'rose',\n 'rubycritic',\n 'workerize',\n 'angelina',\n 'filip',\n 'sru',\n '20to',\n 'topicview',\n 'passing',\n 'fjar',\n 'micrograd',\n 'jd0bywx0riqfixuvc78bdw',\n 'frameset',\n 'inputtext',\n 'picsoung',\n 'ipythonmodels',\n 'stackable',\n 'stacktracefor',\n '30250',\n 'predictor',\n '4a154b',\n 'automatisation',\n '671',\n 'recursors',\n 'validationtimeout',\n 'gayathrigs',\n 'hackdtu',\n '7522',\n 'python36',\n 'gm',\n 'infernus',\n 'sap',\n 'shanmugam',\n 'part4',\n 'cclib',\n 'krb5ccname',\n 'listado',\n 'firacode',\n 'ltimo',\n 'xpaw',\n 'religious',\n 'minima',\n 'cxf3',\n '2528',\n 'coldwind',\n 'kenton',\n 'cwnt',\n 'icrc',\n '130111200201',\n 'pixelyion',\n 'mosaiclayout',\n 'svoboda',\n '440k',\n 'investors',\n 'demicoli',\n 'supersqlite',\n 'hostnamekodi',\n 'apirequest',\n 'sequel',\n 'ericfreese',\n 'benzyn',\n 'net',\n 'rubyist',\n 'schweiger',\n 'mininet',\n '8324',\n '168',\n 'tpot',\n 'oneforallissuesproneforallqq',\n 'csl',\n 'prolonging',\n 'sharpnetsh',\n 'mvciosytknetworknavigationcontroller',\n 'freeciv',\n 'pgcli',\n 'maxsessions',\n 'hackingloops',\n 'guided',\n 'promptvariable',\n 'drasner',\n 'meitu',\n 'lacroix',\n 'estimatedrowheight',\n 'dataadatabdataceventtime',\n 'dogpile',\n 'win32type',\n 'sayedihashimi',\n 'a4',\n 'blkflexibleheightbar',\n 'uio',\n 'fabkrum',\n 'fac',\n 'pasty',\n 'expects',\n 'ashwin',\n 'raccommand',\n '7b',\n 'passivedns',\n 'doyeon',\n 'tin',\n 'vrbanac',\n 'palette',\n 'sendemail',\n '300k',\n 'discogs',\n 'openfacepytorch',\n 'semvertag',\n 'dockerssh',\n 'scanlon',\n 'meetups',\n 'bipedal',\n 'scratch',\n 'evennumbers',\n 'mautrix',\n 'vpnuser',\n 'poorly',\n 'emojibot',\n 'sequency',\n '20224',\n 'moussa',\n 'bahri',\n 'lena',\n 'goji',\n 'darrell',\n 'mzdownloadmanager',\n 'switching',\n '1629',\n 'twitterclone2',\n 'dogma',\n 'mountprotodesc',\n 'jscript',\n 'sixel',\n 'udid',\n 'stdman',\n '1982',\n 'thomastoye',\n 'enterprisemobility',\n 'securitybot',\n '1814',\n 'ole2',\n 'inn',\n 'acknowledging',\n 'svansteelandt',\n 'lkah',\n '5935',\n '351',\n 'anycast',\n 'jcsprout',\n 'wcag',\n 'muda',\n 'labeling',\n 'sifter',\n 'enemy',\n 'vulnearbility',\n 'emgu',\n 'savethedot',\n 'rdoc',\n 'sharat87',\n 'csp',\n 'gitor',\n 'messagedialog',\n 'requarks',\n '304flinksourceflink',\n 'licencecode',\n 'audacity',\n 'gpuimageprewittedgedetectionfilter',\n 'java210',\n 'bookmarks',\n 'snuba',\n 'distilling',\n 'kubeadmkubernetesmaster',\n '1bt',\n 'pto',\n 'termbox',\n 'flatscheme',\n 'ashb07',\n 'bogdan',\n 'intervalometer',\n 'rvrx',\n 'proxiesvalue',\n 'locales',\n 'jsonify',\n 'australia',\n 'lkpy',\n '1374630',\n 'umawia',\n 'tobj',\n 'openjdktag',\n 'tgram',\n 'junyi',\n 'xaudio',\n 'sen',\n 'remyabel',\n '197357417',\n 'micmath',\n 'centre',\n '⚠',\n 'fccf',\n 'droettboom',\n 'upstash',\n 'profilinator',\n 'transactioneventheartbeatmetric',\n 'sencilla',\n 'mirnas',\n 'stringsopt',\n 'jansson',\n 'tsf',\n 'halase',\n 'yoursite',\n '681',\n 'grrm',\n 'geoapify',\n 'tnwei',\n 'eckstrand',\n 'kevgir',\n '0805',\n 'thystrix',\n '16kib',\n '5httpsconcatrtsphlsrtmpcryptompegijk',\n 'marble',\n 'south',\n 'referential',\n 'skeletonized',\n 'soshnikov',\n 'stanke',\n 'wmp',\n 'subsession',\n 'kotlinifelse',\n 'brasilapi',\n '009kumamotobear',\n 'nezhad',\n 'bnje',\n 'lemonawa',\n 'zplug',\n 'authorizers',\n 'samed',\n 'payers',\n 'weaverjavajavafxiot',\n 'oddsquares',\n 'cff',\n 'cimgui',\n 'findsecuritybugs',\n 'hoangnam2261',\n 'fornpm',\n 'pyladies',\n 'taka',\n '2315',\n 'underway',\n 'gpyopt',\n 'colorjitter',\n 'eqeqeq',\n 'migration',\n 'connectedobjectserverdebugandroidtest',\n 'prepended',\n 'jekyll',\n 'multirepo',\n 'luispedro',\n 'openxcom',\n 'robocorp',\n 'getpackages',\n 'hutchinson',\n 'quicktime',\n 'gitref',\n 'jsmochajestexpress',\n 'aei',\n 'doctrine',\n 'fscalendardatasource',\n 'nresult',\n 'alexellisuk',\n 'sasl',\n 'paths',\n 'salmanm',\n 'rojo',\n 'tlots',\n 'setindicatornormalcolor',\n 'plaintextify',\n 'helmmysql',\n 'wiqd',\n 'callbackurlkit',\n 'e40491358340',\n 'yuno',\n 'injections',\n 'acoustic',\n 'fbgraph',\n 'yra',\n 'userincreate',\n 'tfiala',\n 'pumice',\n 'demoassignerwithperiodicwatermarks',\n 'isnextsentence',\n 'fragment',\n 'dualshock',\n 'laniksj',\n 'lawloretienne',\n 'supportingfilestringutil',\n 'refcnt',\n '3v1n0',\n 'vclfiddle',\n 'ekunola',\n 'declarative',\n 'ro55wrje3oe8x3yqi7j26u1e',\n 'spotty',\n 'uptu',\n 'snowhaze',\n 'uiviewuibuttonuiimageview',\n 'jconnect',\n 'easyocr',\n 'dandelin',\n 'clientid',\n 'iconizer',\n 'pyopengl',\n 'logdevice',\n 'wipr',\n '3609',\n 'gradlejar',\n '752',\n 'naked',\n 'anaheim',\n 'holliday',\n 'gedit',\n 'maselino',\n 'multiwindow',\n 'swipetodismiss',\n 'cobaltstike',\n '89321',\n 'sip',\n 'sequenced',\n 'finalspaceapi',\n 'updateskeleton',\n 'y0ssar1an',\n 'jrebel',\n 'masonrymasonryclassyclassylivelayoutdemo',\n 'reword',\n 'ispolicyrespected',\n 'decades',\n 'renderings',\n 'vuecnodejs',\n 'ipand',\n 'dpw',\n 'automobile',\n 'devsnd',\n 'candle',\n 'cmocka',\n 'tincomplete',\n 'copyrights',\n 'foreignkeyfield',\n '20190203084955',\n '1801',\n '70jaissues',\n 'cyberbullying',\n 'optimize',\n 'weighing',\n 'digraphs',\n 'tthird',\n 's5',\n 'sivaram',\n '0593',\n 'berkmann',\n 'oling',\n 'minifiers',\n '20220426171045',\n 'runserver',\n 'userfriendliness',\n 'flinkrabbitmqrabbitmqcorrelationdataidcheckpointexactly',\n 'allthingsds',\n 'chars',\n '1x1',\n 'loadbalancer',\n '3u',\n 'kvconstraintkit',\n 'ansari',\n 'tournament',\n 'kubernetesspringcloud',\n 'loadingcache',\n 'goarm',\n '0947',\n 'listar',\n 'smuggling',\n 'kanye',\n 'gspread',\n 'padifneeded',\n 'maltego',\n 'fromphonenotwilio',\n 'oninterrupt',\n 'talkavisor',\n '04063',\n 'pidgin',\n '32412',\n 'nieskoczone',\n 'toolbelt',\n 'sf9umg1y',\n 'arcomage',\n 'forensicstools',\n 'gney',\n '2443',\n 'login',\n 'transient',\n 'zpy',\n 'relied',\n 'member1',\n '3s2p',\n 'sidenavstyle',\n 'pretreatment',\n 'orginal',\n 'pfnet',\n 'novocaine',\n 'lightnode',\n '1500',\n 'xltm',\n 'hamilton',\n 'azdbar1m',\n 'optimistic',\n 'workforces',\n 'rewritting',\n 'ramp',\n 'jpad',\n 'rap',\n '4chan',\n 'tzstackview',\n 'jacrev',\n 'beeceptor',\n 'rosenberg',\n 'mas',\n 'aig',\n 'javabean',\n 'mmapped',\n 'richeir',\n 'tetra',\n 'creatures',\n 'pentoo',\n 'klee',\n 'philipjfulcher',\n 'elevated',\n 'pruneimages',\n 'syed',\n 'hi',\n 'cpp98longtypedef',\n 'migratejs',\n 'sqad',\n 'sessionjobcheckpoint',\n 'tscq',\n 'elapsed',\n 'rvalues',\n 'fxxking',\n 'ggez',\n 'adhering',\n 'ghcr',\n 'proven',\n 'hdbx',\n 'structlog',\n 'eresytter',\n 'perusing',\n 'theto',\n 'exclusive',\n 'surfacetexture',\n 'backgroundmusic',\n 'urule',\n 'carmen',\n 'underlying',\n 'tc2',\n 'plc',\n 'zle',\n 'cuisiner',\n 'nynorsk',\n 'aix',\n 'grebenets',\n 'secondthread',\n 'margo',\n 'neighborhood',\n 'foothold',\n 'preserves',\n 'autonomy',\n 'sidisan',\n 'stanu',\n ...}"
     },
     "execution_count": 257,
     "metadata": {},
     "output_type": "execute_result"
    }
   ],
   "source": [
    "vocabulary = create_vocabulary(train_csv)\n",
    "vocabulary\n",
    "# train_readmes = train_csv\n",
    "# test_readmes = test_csv"
   ],
   "metadata": {
    "collapsed": false
   }
  },
  {
   "cell_type": "code",
   "execution_count": 258,
   "outputs": [],
   "source": [
    "from sklearn.feature_extraction.text import TfidfVectorizer\n",
    "\n",
    "\n",
    "def input(csv):\n",
    "    res = list(csv['readme'])\n",
    "    for i in range(len(res)):\n",
    "        res[i] = ' '.join(res[i])\n",
    "    return res\n",
    "\n",
    "\n",
    "train_vectors = TfidfVectorizer(vocabulary=vocabulary, min_df=1).fit_transform(input(train_csv))\n",
    "test_vectors = TfidfVectorizer(vocabulary=vocabulary, min_df=1).fit_transform(input(test_csv))\n",
    "# print(vectors.toarray())\n",
    "# vectors = vectorize(good_train_csv['readme'])\n",
    "# for i in vectors.toarray()[0]:\n",
    "#     print(i)"
   ],
   "metadata": {
    "collapsed": false
   }
  },
  {
   "cell_type": "code",
   "execution_count": 259,
   "outputs": [
    {
     "data": {
      "text/plain": "0.9356702619414484"
     },
     "execution_count": 259,
     "metadata": {},
     "output_type": "execute_result"
    }
   ],
   "source": [
    "import random\n",
    "from sklearn.ensemble import RandomForestClassifier\n",
    "\n",
    "model = RandomForestClassifier()\n",
    "\n",
    "# print(vectors_train,true_train)\n",
    "model.fit(train_vectors, train_csv.is_good)\n",
    "model.score(test_vectors, test_csv.is_good)\n",
    "\n"
   ],
   "metadata": {
    "collapsed": false
   }
  },
  {
   "cell_type": "code",
   "execution_count": 289,
   "outputs": [
    {
     "name": "stdout",
     "output_type": "stream",
     "text": [
      "False\n"
     ]
    }
   ],
   "source": [
    "test_readme = \"\"\"\n",
    "\n",
    "\"\"\"\n",
    "\n",
    "\n",
    "def predict(readme: str) -> bool:\n",
    "    vector_html = markdown.markdown(readme)\n",
    "    preprocessed_test = preprocess_html(vector_html)\n",
    "    vector_test = TfidfVectorizer(vocabulary=vocabulary, min_df=1).fit_transform([' '.join(preprocessed_test)])\n",
    "    return bool(model.predict(vector_test)[0])\n",
    "\n",
    "\n",
    "print(predict(test_readme))"
   ],
   "metadata": {
    "collapsed": false
   }
  }
 ],
 "metadata": {
  "kernelspec": {
   "display_name": "Python 3",
   "language": "python",
   "name": "python3"
  },
  "language_info": {
   "codemirror_mode": {
    "name": "ipython",
    "version": 2
   },
   "file_extension": ".py",
   "mimetype": "text/x-python",
   "name": "python",
   "nbconvert_exporter": "python",
   "pygments_lexer": "ipython2",
   "version": "2.7.6"
  }
 },
 "nbformat": 4,
 "nbformat_minor": 0
}
