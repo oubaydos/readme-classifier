{
 "cells": [
  {
   "cell_type": "code",
   "execution_count": 2,
   "outputs": [],
   "source": [
    "import re\n",
    "import string\n",
    "\n",
    "import markdown\n",
    "import pandas as pd\n",
    "from bs4 import BeautifulSoup\n",
    "from pandas import DataFrame\n",
    "\n",
    "# merge the train and test csvs\n",
    "\n",
    "train_csv = pd.concat([pd.read_csv('train/good.csv'), pd.read_csv('train/bad.csv')], axis=0).reset_index()\n",
    "test_csv = pd.concat([pd.read_csv('test/good.csv'), pd.read_csv('test/bad.csv')], axis=0).reset_index()\n",
    "# train_csv\n",
    "# pd.read_csv('test/bad.csv').shape[0]\n",
    "# pd.read_csv('test/bad.csv').columns"
   ],
   "metadata": {
    "collapsed": false
   }
  },
  {
   "cell_type": "code",
   "execution_count": 3,
   "metadata": {
    "collapsed": true
   },
   "outputs": [
    {
     "data": {
      "text/plain": "      index    id  length                                             readme  \\\n0         0     1    4024  # Beego [![Test](https://github.com/beego/beeg...   \n1         1     2    3545  <p align=\"center\"><a href=\"https://laravel.com...   \n2         2     3    6061  # ![TodoMVC](media/logo.png)\\n\\n> Helping you ...   \n3         3     4   28301  # Sortable &nbsp; [![Financial Contributors on...   \n4         4     5   13584  <p align=\"center\">\\n  <a href=\"#\"><img src=\"./...   \n...     ...   ...     ...                                                ...   \n2591   1139  1140      93  # 50projects_50days\\n 50 unique mini-projects ...   \n2592   1140  1141     405  # KMG-CAFE\\nFIRST PROJECTS\\nThis project based...   \n2593   1141  1142      37              # srs\\nAutomating services to users\\n   \n2594   1142  1143      16                                   # htmlsitetest\\n   \n2595   1143  1144      62  # hello-world\\nFirst time repository\\n\\nHey, I...   \n\n      is_good  \n0        True  \n1        True  \n2        True  \n3        True  \n4        True  \n...       ...  \n2591    False  \n2592    False  \n2593    False  \n2594    False  \n2595    False  \n\n[2596 rows x 5 columns]",
      "text/html": "<div>\n<style scoped>\n    .dataframe tbody tr th:only-of-type {\n        vertical-align: middle;\n    }\n\n    .dataframe tbody tr th {\n        vertical-align: top;\n    }\n\n    .dataframe thead th {\n        text-align: right;\n    }\n</style>\n<table border=\"1\" class=\"dataframe\">\n  <thead>\n    <tr style=\"text-align: right;\">\n      <th></th>\n      <th>index</th>\n      <th>id</th>\n      <th>length</th>\n      <th>readme</th>\n      <th>is_good</th>\n    </tr>\n  </thead>\n  <tbody>\n    <tr>\n      <th>0</th>\n      <td>0</td>\n      <td>1</td>\n      <td>4024</td>\n      <td># Beego [![Test](https://github.com/beego/beeg...</td>\n      <td>True</td>\n    </tr>\n    <tr>\n      <th>1</th>\n      <td>1</td>\n      <td>2</td>\n      <td>3545</td>\n      <td>&lt;p align=\"center\"&gt;&lt;a href=\"https://laravel.com...</td>\n      <td>True</td>\n    </tr>\n    <tr>\n      <th>2</th>\n      <td>2</td>\n      <td>3</td>\n      <td>6061</td>\n      <td># ![TodoMVC](media/logo.png)\\n\\n&gt; Helping you ...</td>\n      <td>True</td>\n    </tr>\n    <tr>\n      <th>3</th>\n      <td>3</td>\n      <td>4</td>\n      <td>28301</td>\n      <td># Sortable &amp;nbsp; [![Financial Contributors on...</td>\n      <td>True</td>\n    </tr>\n    <tr>\n      <th>4</th>\n      <td>4</td>\n      <td>5</td>\n      <td>13584</td>\n      <td>&lt;p align=\"center\"&gt;\\n  &lt;a href=\"#\"&gt;&lt;img src=\"./...</td>\n      <td>True</td>\n    </tr>\n    <tr>\n      <th>...</th>\n      <td>...</td>\n      <td>...</td>\n      <td>...</td>\n      <td>...</td>\n      <td>...</td>\n    </tr>\n    <tr>\n      <th>2591</th>\n      <td>1139</td>\n      <td>1140</td>\n      <td>93</td>\n      <td># 50projects_50days\\n 50 unique mini-projects ...</td>\n      <td>False</td>\n    </tr>\n    <tr>\n      <th>2592</th>\n      <td>1140</td>\n      <td>1141</td>\n      <td>405</td>\n      <td># KMG-CAFE\\nFIRST PROJECTS\\nThis project based...</td>\n      <td>False</td>\n    </tr>\n    <tr>\n      <th>2593</th>\n      <td>1141</td>\n      <td>1142</td>\n      <td>37</td>\n      <td># srs\\nAutomating services to users\\n</td>\n      <td>False</td>\n    </tr>\n    <tr>\n      <th>2594</th>\n      <td>1142</td>\n      <td>1143</td>\n      <td>16</td>\n      <td># htmlsitetest\\n</td>\n      <td>False</td>\n    </tr>\n    <tr>\n      <th>2595</th>\n      <td>1143</td>\n      <td>1144</td>\n      <td>62</td>\n      <td># hello-world\\nFirst time repository\\n\\nHey, I...</td>\n      <td>False</td>\n    </tr>\n  </tbody>\n</table>\n<p>2596 rows × 5 columns</p>\n</div>"
     },
     "execution_count": 3,
     "metadata": {},
     "output_type": "execute_result"
    }
   ],
   "source": [
    "\n",
    "\n",
    "\n",
    "def add_size_columns(csv):\n",
    "    lengths = []\n",
    "    for i, row in csv.iterrows():\n",
    "        lengths.append(len(str(row.readme)))\n",
    "    csv.insert(2, 'length', lengths)\n",
    "    return csv\n",
    "\n",
    "\n",
    "add_size_columns(train_csv)\n",
    "add_size_columns(test_csv)\n",
    "\n",
    "\n",
    "# contains 'id', 'readme', 'is_good'"
   ]
  },
  {
   "cell_type": "code",
   "execution_count": 4,
   "outputs": [],
   "source": [
    "def create_vocabulary(preprocessed_dataframe: DataFrame) -> set:\n",
    "    vocabulary = set()\n",
    "    for i, row in preprocessed_dataframe.iterrows():\n",
    "        for j in row.readme:\n",
    "            vocabulary.add(j)\n",
    "    return vocabulary\n"
   ],
   "metadata": {
    "collapsed": false
   }
  },
  {
   "cell_type": "code",
   "execution_count": 5,
   "outputs": [
    {
     "data": {
      "text/plain": "      index    id  length                                             readme  \\\n0         0     1    6051  [babylon, js, getting, started, play, directly...   \n1         1     2   13906  [java, pencil2, computer, cloud, art, floppy, ...   \n2         2     3   35891  [banner, 2, 0, ui, banner, 2, 0, banner, 1, 4,...   \n3         3     4    4654  [install, documentation, releases, contributin...   \n4         4     5    3121  [metasploit, the, metasploit, framework, is, r...   \n...     ...   ...     ...                                                ...   \n2560   1070  1071     301                                                 []   \n2561   1071  1072    1502  [hi, i, m, kyle, a, full, stack, javascript, d...   \n2562   1072  1073      71  [hello, world, hello, world, stuff, hello, thi...   \n2563   1073  1074    1018                                                 []   \n2564   1074  1075      60  [hello, wrold, just, another, repository, gith...   \n\n      is_good  \n0        True  \n1        True  \n2        True  \n3        True  \n4        True  \n...       ...  \n2560    False  \n2561    False  \n2562    False  \n2563    False  \n2564    False  \n\n[2565 rows x 5 columns]",
      "text/html": "<div>\n<style scoped>\n    .dataframe tbody tr th:only-of-type {\n        vertical-align: middle;\n    }\n\n    .dataframe tbody tr th {\n        vertical-align: top;\n    }\n\n    .dataframe thead th {\n        text-align: right;\n    }\n</style>\n<table border=\"1\" class=\"dataframe\">\n  <thead>\n    <tr style=\"text-align: right;\">\n      <th></th>\n      <th>index</th>\n      <th>id</th>\n      <th>length</th>\n      <th>readme</th>\n      <th>is_good</th>\n    </tr>\n  </thead>\n  <tbody>\n    <tr>\n      <th>0</th>\n      <td>0</td>\n      <td>1</td>\n      <td>6051</td>\n      <td>[babylon, js, getting, started, play, directly...</td>\n      <td>True</td>\n    </tr>\n    <tr>\n      <th>1</th>\n      <td>1</td>\n      <td>2</td>\n      <td>13906</td>\n      <td>[java, pencil2, computer, cloud, art, floppy, ...</td>\n      <td>True</td>\n    </tr>\n    <tr>\n      <th>2</th>\n      <td>2</td>\n      <td>3</td>\n      <td>35891</td>\n      <td>[banner, 2, 0, ui, banner, 2, 0, banner, 1, 4,...</td>\n      <td>True</td>\n    </tr>\n    <tr>\n      <th>3</th>\n      <td>3</td>\n      <td>4</td>\n      <td>4654</td>\n      <td>[install, documentation, releases, contributin...</td>\n      <td>True</td>\n    </tr>\n    <tr>\n      <th>4</th>\n      <td>4</td>\n      <td>5</td>\n      <td>3121</td>\n      <td>[metasploit, the, metasploit, framework, is, r...</td>\n      <td>True</td>\n    </tr>\n    <tr>\n      <th>...</th>\n      <td>...</td>\n      <td>...</td>\n      <td>...</td>\n      <td>...</td>\n      <td>...</td>\n    </tr>\n    <tr>\n      <th>2560</th>\n      <td>1070</td>\n      <td>1071</td>\n      <td>301</td>\n      <td>[]</td>\n      <td>False</td>\n    </tr>\n    <tr>\n      <th>2561</th>\n      <td>1071</td>\n      <td>1072</td>\n      <td>1502</td>\n      <td>[hi, i, m, kyle, a, full, stack, javascript, d...</td>\n      <td>False</td>\n    </tr>\n    <tr>\n      <th>2562</th>\n      <td>1072</td>\n      <td>1073</td>\n      <td>71</td>\n      <td>[hello, world, hello, world, stuff, hello, thi...</td>\n      <td>False</td>\n    </tr>\n    <tr>\n      <th>2563</th>\n      <td>1073</td>\n      <td>1074</td>\n      <td>1018</td>\n      <td>[]</td>\n      <td>False</td>\n    </tr>\n    <tr>\n      <th>2564</th>\n      <td>1074</td>\n      <td>1075</td>\n      <td>60</td>\n      <td>[hello, wrold, just, another, repository, gith...</td>\n      <td>False</td>\n    </tr>\n  </tbody>\n</table>\n<p>2565 rows × 5 columns</p>\n</div>"
     },
     "execution_count": 5,
     "metadata": {},
     "output_type": "execute_result"
    }
   ],
   "source": [
    "def preprocess_html(html):\n",
    "    # Use BeautifulSoup to parse the HTML\n",
    "    soup = BeautifulSoup(html, 'html.parser')\n",
    "\n",
    "    # Remove any script or style tags\n",
    "    for tag in soup(['script', 'style']):\n",
    "        tag.decompose()\n",
    "\n",
    "    # Remove HTML tags and attributes\n",
    "    text = soup.get_text()\n",
    "    text = re.sub(r'<[^>]*>', '', text)\n",
    "    text = text.replace('/', ' ').replace('\\\\n', ' ').replace('\\\\r', ' ')\n",
    "    text = re.sub(r'\\\\x..', '', text)\n",
    "    text = text.translate(text.maketrans(string.punctuation, ' ' * len(string.punctuation)))\n",
    "    text = text.lower()\n",
    "\n",
    "    # Split the text into words\n",
    "    words = text.split()\n",
    "    if len(words) >= 1 and words[0] == 'b':\n",
    "        del words[0]\n",
    "\n",
    "    # Return the preprocessed text\n",
    "    return words\n",
    "\n",
    "\n",
    "count = 0\n",
    "\n",
    "\n",
    "def preprocess_markdown(markdown_text):\n",
    "    markdown_text = str(markdown_text)\n",
    "    html = markdown.markdown(markdown_text)\n",
    "    # Preprocess the HTML\n",
    "    words = preprocess_html(html)\n",
    "    return words\n",
    "\n",
    "\n",
    "def preprocess(csv):\n",
    "    a = csv['readme'].apply(preprocess_markdown)\n",
    "    return a\n",
    "\n",
    "\n",
    "train_csv['readme'] = preprocess(train_csv)\n",
    "\n",
    "train_csv\n",
    "# test_csv = preprocess(test_csv)\n",
    "# for i, row in train_csv.iterrows():\n",
    "#     print(len(row.readme))\n",
    "#     break\n"
   ],
   "metadata": {
    "collapsed": false
   }
  },
  {
   "cell_type": "code",
   "execution_count": 6,
   "outputs": [
    {
     "data": {
      "text/plain": "      index    id  length                                             readme  \\\n0         0     1    4024  [beego, beego, is, used, for, rapid, developme...   \n1         1     2    3545  [about, laravel, note, this, repository, conta...   \n2         2     3    6061  [helping, you, select, an, mv, framework, webs...   \n3         3     4   28301  [sortable, sortable, is, a, javascript, librar...   \n4         4     5   13584  [a, completely, customizable, framework, for, ...   \n...     ...   ...     ...                                                ...   \n2591   1139  1140      93  [50projects, 50days, 50, unique, mini, project...   \n2592   1140  1141     405  [kmg, cafe, first, projects, this, project, ba...   \n2593   1141  1142      37             [srs, automating, services, to, users]   \n2594   1142  1143      16                                     [htmlsitetest]   \n2595   1143  1144      62  [hello, world, first, time, repository, hey, i...   \n\n      is_good  \n0        True  \n1        True  \n2        True  \n3        True  \n4        True  \n...       ...  \n2591    False  \n2592    False  \n2593    False  \n2594    False  \n2595    False  \n\n[2596 rows x 5 columns]",
      "text/html": "<div>\n<style scoped>\n    .dataframe tbody tr th:only-of-type {\n        vertical-align: middle;\n    }\n\n    .dataframe tbody tr th {\n        vertical-align: top;\n    }\n\n    .dataframe thead th {\n        text-align: right;\n    }\n</style>\n<table border=\"1\" class=\"dataframe\">\n  <thead>\n    <tr style=\"text-align: right;\">\n      <th></th>\n      <th>index</th>\n      <th>id</th>\n      <th>length</th>\n      <th>readme</th>\n      <th>is_good</th>\n    </tr>\n  </thead>\n  <tbody>\n    <tr>\n      <th>0</th>\n      <td>0</td>\n      <td>1</td>\n      <td>4024</td>\n      <td>[beego, beego, is, used, for, rapid, developme...</td>\n      <td>True</td>\n    </tr>\n    <tr>\n      <th>1</th>\n      <td>1</td>\n      <td>2</td>\n      <td>3545</td>\n      <td>[about, laravel, note, this, repository, conta...</td>\n      <td>True</td>\n    </tr>\n    <tr>\n      <th>2</th>\n      <td>2</td>\n      <td>3</td>\n      <td>6061</td>\n      <td>[helping, you, select, an, mv, framework, webs...</td>\n      <td>True</td>\n    </tr>\n    <tr>\n      <th>3</th>\n      <td>3</td>\n      <td>4</td>\n      <td>28301</td>\n      <td>[sortable, sortable, is, a, javascript, librar...</td>\n      <td>True</td>\n    </tr>\n    <tr>\n      <th>4</th>\n      <td>4</td>\n      <td>5</td>\n      <td>13584</td>\n      <td>[a, completely, customizable, framework, for, ...</td>\n      <td>True</td>\n    </tr>\n    <tr>\n      <th>...</th>\n      <td>...</td>\n      <td>...</td>\n      <td>...</td>\n      <td>...</td>\n      <td>...</td>\n    </tr>\n    <tr>\n      <th>2591</th>\n      <td>1139</td>\n      <td>1140</td>\n      <td>93</td>\n      <td>[50projects, 50days, 50, unique, mini, project...</td>\n      <td>False</td>\n    </tr>\n    <tr>\n      <th>2592</th>\n      <td>1140</td>\n      <td>1141</td>\n      <td>405</td>\n      <td>[kmg, cafe, first, projects, this, project, ba...</td>\n      <td>False</td>\n    </tr>\n    <tr>\n      <th>2593</th>\n      <td>1141</td>\n      <td>1142</td>\n      <td>37</td>\n      <td>[srs, automating, services, to, users]</td>\n      <td>False</td>\n    </tr>\n    <tr>\n      <th>2594</th>\n      <td>1142</td>\n      <td>1143</td>\n      <td>16</td>\n      <td>[htmlsitetest]</td>\n      <td>False</td>\n    </tr>\n    <tr>\n      <th>2595</th>\n      <td>1143</td>\n      <td>1144</td>\n      <td>62</td>\n      <td>[hello, world, first, time, repository, hey, i...</td>\n      <td>False</td>\n    </tr>\n  </tbody>\n</table>\n<p>2596 rows × 5 columns</p>\n</div>"
     },
     "execution_count": 6,
     "metadata": {},
     "output_type": "execute_result"
    }
   ],
   "source": [
    "test_csv['readme'] = preprocess(test_csv)\n",
    "\n",
    "test_csv\n"
   ],
   "metadata": {
    "collapsed": false
   }
  },
  {
   "cell_type": "code",
   "execution_count": 7,
   "outputs": [],
   "source": [
    "vocabulary = create_vocabulary(train_csv)\n",
    "# vocabulary\n",
    "# train_readmes = train_csv\n",
    "# test_readmes = test_csv"
   ],
   "metadata": {
    "collapsed": false
   }
  },
  {
   "cell_type": "code",
   "execution_count": 8,
   "outputs": [],
   "source": [
    "from sklearn.feature_extraction.text import TfidfVectorizer\n",
    "\n",
    "\n",
    "def input(csv):\n",
    "    res = list(csv['readme'])\n",
    "    for i in range(len(res)):\n",
    "        res[i] = ' '.join(res[i])\n",
    "    return res\n",
    "\n",
    "\n",
    "train_vectors = TfidfVectorizer(vocabulary=vocabulary, min_df=1).fit_transform(input(train_csv))\n",
    "test_vectors = TfidfVectorizer(vocabulary=vocabulary, min_df=1).fit_transform(input(test_csv))\n",
    "# print(vectors.toarray())\n",
    "# vectors = vectorize(good_train_csv['readme'])\n",
    "# for i in vectors.toarray()[0]:\n",
    "#     print(i)"
   ],
   "metadata": {
    "collapsed": false
   }
  },
  {
   "cell_type": "code",
   "execution_count": 56,
   "outputs": [
    {
     "data": {
      "text/plain": "0.9426040061633282"
     },
     "execution_count": 56,
     "metadata": {},
     "output_type": "execute_result"
    }
   ],
   "source": [
    "\n",
    "from sklearn.ensemble import RandomForestClassifier\n",
    "from scipy.sparse import hstack\n",
    "from scipy.sparse import csr_matrix\n",
    "\n",
    "train_length = csr_matrix(train_csv.length).transpose()\n",
    "test_length = csr_matrix(test_csv.length).transpose()\n",
    "train_features = hstack((train_vectors, train_length))\n",
    "test_features = hstack((test_vectors, test_length))\n",
    "model = RandomForestClassifier()\n",
    "model.fit(train_features, train_csv.is_good)\n",
    "model.score(test_features, test_csv.is_good)\n"
   ],
   "metadata": {
    "collapsed": false
   }
  },
  {
   "cell_type": "code",
   "execution_count": 60,
   "outputs": [
    {
     "name": "stdout",
     "output_type": "stream",
     "text": [
      "False\n"
     ]
    }
   ],
   "source": [
    "test_readme = \"\"\"\n",
    "# readme-classifier\n",
    "this is a classifier that is used to determine whether a github readme file is \"good\" or \"bad\"\n",
    "\n",
    "this idea behind this project was to change the static classifier found in [DevOpsify](https://github.com/oubaydos/DevOpsify)\n",
    "\n",
    "### score\n",
    "for now the score for this model is *93%*, but i think there could be a problem of overfitting, i will do more tests\n",
    "\n",
    "### example\n",
    "when given this Readme\n",
    "```python\n",
    "test_readme = \"\"\"\n",
    "#this readme\n",
    "\"\"\"\n",
    "```\n",
    "it gives\n",
    "```python\n",
    "print(predict(test_readme))\n",
    "# False\n",
    "```\n",
    "so apperently this is a bad readme 😂\n",
    "\"\"\"\n",
    "\n",
    "\n",
    "def predict(readme: str) -> bool:\n",
    "    vector_html = markdown.markdown(readme)\n",
    "    preprocessed_test = preprocess_html(vector_html)\n",
    "    vector_test = TfidfVectorizer(vocabulary=vocabulary, min_df=1).fit_transform([' '.join(preprocessed_test)])\n",
    "    return bool(model.predict(hstack((vector_test, len(readme))))[0])\n",
    "\n",
    "\n",
    "print(predict(test_readme))"
   ],
   "metadata": {
    "collapsed": false
   }
  }
 ],
 "metadata": {
  "kernelspec": {
   "display_name": "Python 3",
   "language": "python",
   "name": "python3"
  },
  "language_info": {
   "codemirror_mode": {
    "name": "ipython",
    "version": 2
   },
   "file_extension": ".py",
   "mimetype": "text/x-python",
   "name": "python",
   "nbconvert_exporter": "python",
   "pygments_lexer": "ipython2",
   "version": "2.7.6"
  }
 },
 "nbformat": 4,
 "nbformat_minor": 0
}
